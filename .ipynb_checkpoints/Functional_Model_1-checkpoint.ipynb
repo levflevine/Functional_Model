{
 "cells": [
  {
   "cell_type": "code",
   "execution_count": 1,
   "id": "dc1ea3d9",
   "metadata": {},
   "outputs": [],
   "source": [
    "##import libraries\n",
    "import numpy as np\n",
    "import pandas as pd\n",
    "import tensorflow as tf\n",
    "from sklearn.model_selection import train_test_split\n",
    "from sklearn.preprocessing import MinMaxScaler\n",
    "import matplotlib.pyplot as plt"
   ]
  },
  {
   "cell_type": "code",
   "execution_count": 2,
   "id": "628816d3",
   "metadata": {},
   "outputs": [
    {
     "data": {
      "text/html": [
       "<div>\n",
       "<style scoped>\n",
       "    .dataframe tbody tr th:only-of-type {\n",
       "        vertical-align: middle;\n",
       "    }\n",
       "\n",
       "    .dataframe tbody tr th {\n",
       "        vertical-align: top;\n",
       "    }\n",
       "\n",
       "    .dataframe thead th {\n",
       "        text-align: right;\n",
       "    }\n",
       "</style>\n",
       "<table border=\"1\" class=\"dataframe\">\n",
       "  <thead>\n",
       "    <tr style=\"text-align: right;\">\n",
       "      <th></th>\n",
       "      <th>AT</th>\n",
       "      <th>V</th>\n",
       "      <th>AP</th>\n",
       "      <th>RH</th>\n",
       "      <th>PE</th>\n",
       "    </tr>\n",
       "  </thead>\n",
       "  <tbody>\n",
       "    <tr>\n",
       "      <th>0</th>\n",
       "      <td>14.96</td>\n",
       "      <td>41.76</td>\n",
       "      <td>1024.07</td>\n",
       "      <td>73.17</td>\n",
       "      <td>463.26</td>\n",
       "    </tr>\n",
       "    <tr>\n",
       "      <th>1</th>\n",
       "      <td>25.18</td>\n",
       "      <td>62.96</td>\n",
       "      <td>1020.04</td>\n",
       "      <td>59.08</td>\n",
       "      <td>444.37</td>\n",
       "    </tr>\n",
       "    <tr>\n",
       "      <th>2</th>\n",
       "      <td>5.11</td>\n",
       "      <td>39.40</td>\n",
       "      <td>1012.16</td>\n",
       "      <td>92.14</td>\n",
       "      <td>488.56</td>\n",
       "    </tr>\n",
       "    <tr>\n",
       "      <th>3</th>\n",
       "      <td>20.86</td>\n",
       "      <td>57.32</td>\n",
       "      <td>1010.24</td>\n",
       "      <td>76.64</td>\n",
       "      <td>446.48</td>\n",
       "    </tr>\n",
       "    <tr>\n",
       "      <th>4</th>\n",
       "      <td>10.82</td>\n",
       "      <td>37.50</td>\n",
       "      <td>1009.23</td>\n",
       "      <td>96.62</td>\n",
       "      <td>473.90</td>\n",
       "    </tr>\n",
       "  </tbody>\n",
       "</table>\n",
       "</div>"
      ],
      "text/plain": [
       "      AT      V       AP     RH      PE\n",
       "0  14.96  41.76  1024.07  73.17  463.26\n",
       "1  25.18  62.96  1020.04  59.08  444.37\n",
       "2   5.11  39.40  1012.16  92.14  488.56\n",
       "3  20.86  57.32  1010.24  76.64  446.48\n",
       "4  10.82  37.50  1009.23  96.62  473.90"
      ]
     },
     "execution_count": 2,
     "metadata": {},
     "output_type": "execute_result"
    }
   ],
   "source": [
    "##import the dataset \n",
    "\n",
    "df = pd.read_excel('Folds5x2_pp.xlsx')\n",
    "\n",
    "df.head()"
   ]
  },
  {
   "cell_type": "code",
   "execution_count": 3,
   "id": "edbb5b32",
   "metadata": {},
   "outputs": [],
   "source": [
    "##define a function to get the outputs of the model\n",
    "def get_outputs(data):\n",
    "    y1 = data.pop('PE')\n",
    "    y1 = np.array(y1)\n",
    "    y2 = data.pop('V')\n",
    "    y2 = np.array(y2)\n",
    "    return y1, y2"
   ]
  },
  {
   "cell_type": "code",
   "execution_count": 4,
   "id": "1f60b69f",
   "metadata": {},
   "outputs": [],
   "source": [
    "# Preprocess the data\n",
    "train, test = train_test_split(df, test_size=0.2, random_state = 1)\n",
    "##getting the outputs(PE) and (V) of the train and test data \n",
    "y_train = get_outputs(train)\n",
    "y_test = get_outputs(test)\n",
    "###Scaling the inputs\n",
    "min_max=MinMaxScaler()\n",
    "X_train=min_max.fit_transform(train)\n",
    "X_test=min_max.transform(test)"
   ]
  },
  {
   "cell_type": "code",
   "execution_count": 5,
   "id": "139f30e6",
   "metadata": {},
   "outputs": [],
   "source": [
    "##Import the libraries for neural networks\n",
    "from tensorflow.keras.models import Model\n",
    "from tensorflow.keras.layers import Input\n",
    "from tensorflow.keras.layers import Dense"
   ]
  },
  {
   "cell_type": "code",
   "execution_count": 6,
   "id": "976be292",
   "metadata": {},
   "outputs": [],
   "source": [
    "##define input layer\n",
    "input_layer = Input(shape=(3,),name='input_layer')\n",
    "##Defining 2 hidden layers\n",
    "Layer_1 = Dense(10, activation=\"relu\",name='Layer_1')(input_layer)\n",
    "Layer_2 = Dense(10, activation=\"relu\",name='Layer_2')(Layer_1)\n",
    "##Defining  output layer y1\n",
    "y1_output= Dense(1, activation=\"linear\",name='y1_output')(Layer_2)\n",
    "##Defining Branched layer\n",
    "Branched_layer=Dense(10, activation=\"relu\",name='Branched_layer')(Layer_2)\n",
    "##Defining 2nd output layer y2\n",
    "y2_output= Dense(1, activation=\"linear\",name='y2_output')(Branched_layer)\n",
    "##Defining the model by specifying the input and output layers\n",
    "model = Model(inputs=input_layer,outputs=[y1_output,y2_output])"
   ]
  },
  {
   "cell_type": "code",
   "execution_count": null,
   "id": "27a239a2",
   "metadata": {},
   "outputs": [],
   "source": []
  }
 ],
 "metadata": {
  "kernelspec": {
   "display_name": "mlenv",
   "language": "python",
   "name": "mlenv"
  },
  "language_info": {
   "codemirror_mode": {
    "name": "ipython",
    "version": 3
   },
   "file_extension": ".py",
   "mimetype": "text/x-python",
   "name": "python",
   "nbconvert_exporter": "python",
   "pygments_lexer": "ipython3",
   "version": "3.7.11"
  }
 },
 "nbformat": 4,
 "nbformat_minor": 5
}
